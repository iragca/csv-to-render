{
 "cells": [
  {
   "cell_type": "code",
   "execution_count": null,
   "id": "b239d637",
   "metadata": {},
   "outputs": [],
   "source": [
    "import polars as pl\n",
    "\n",
    "from src.config import DATA_PATH"
   ]
  },
  {
   "cell_type": "code",
   "execution_count": 9,
   "id": "a563f1f8",
   "metadata": {},
   "outputs": [],
   "source": [
    "CANADA_USD_RATIO = 0.76"
   ]
  },
  {
   "cell_type": "code",
   "execution_count": null,
   "id": "f6cfd842",
   "metadata": {},
   "outputs": [],
   "source": [
    "canada_sales = pl.read_csv(DATA_PATH / \"canada_sales.csv\", infer_schema_length=10000)\n",
    "usa_sales = pl.read_csv(DATA_PATH / \"usa_sales.csv\", infer_schema_length=10000)"
   ]
  },
  {
   "cell_type": "code",
   "execution_count": 23,
   "id": "b3e29438",
   "metadata": {},
   "outputs": [
    {
     "data": {
      "text/html": [
       "<div><style>\n",
       ".dataframe > thead > tr,\n",
       ".dataframe > tbody > tr {\n",
       "  text-align: right;\n",
       "  white-space: pre-wrap;\n",
       "}\n",
       "</style>\n",
       "<small>shape: (18_383, 6)</small><table border=\"1\" class=\"dataframe\"><thead><tr><th>Order ID</th><th>Product</th><th>Quantity Ordered</th><th>Price Each</th><th>Order Date</th><th>Purchase Address</th></tr><tr><td>str</td><td>str</td><td>str</td><td>str</td><td>str</td><td>str</td></tr></thead><tbody><tr><td>&quot;176558&quot;</td><td>&quot;USB-C Charging Cable&quot;</td><td>&quot;2&quot;</td><td>&quot;11.95&quot;</td><td>&quot;04/19/19 08:46&quot;</td><td>&quot;128 Elm St, Quebec City&quot;</td></tr><tr><td>null</td><td>null</td><td>null</td><td>null</td><td>null</td><td>&quot;113 Oak St, Ottawa&quot;</td></tr><tr><td>&quot;176559&quot;</td><td>&quot;Bose SoundSport Headphones&quot;</td><td>&quot;1&quot;</td><td>&quot;99.99&quot;</td><td>&quot;04/07/19 22:30&quot;</td><td>&quot;116 Elm St, Winnipeg&quot;</td></tr><tr><td>&quot;176560&quot;</td><td>&quot;Google Phone&quot;</td><td>&quot;1&quot;</td><td>&quot;600&quot;</td><td>&quot;04/12/19 14:38&quot;</td><td>&quot;149 Broadway, Edmonton&quot;</td></tr><tr><td>&quot;176560&quot;</td><td>&quot;Wired Headphones&quot;</td><td>&quot;1&quot;</td><td>&quot;11.99&quot;</td><td>&quot;04/12/19 14:38&quot;</td><td>&quot;121 Maple St, Vancouver&quot;</td></tr><tr><td>&hellip;</td><td>&hellip;</td><td>&hellip;</td><td>&hellip;</td><td>&hellip;</td><td>&hellip;</td></tr><tr><td>&quot;194090&quot;</td><td>&quot;Google Phone&quot;</td><td>&quot;1&quot;</td><td>&quot;600&quot;</td><td>&quot;04/08/19 17:11&quot;</td><td>&quot;124 Market St, Quebec City&quot;</td></tr><tr><td>&quot;194091&quot;</td><td>&quot;AA Batteries (4-pack)&quot;</td><td>&quot;1&quot;</td><td>&quot;3.84&quot;</td><td>&quot;04/15/19 16:02&quot;</td><td>&quot;130 Cedar Ave, Ottawa&quot;</td></tr><tr><td>&quot;194092&quot;</td><td>&quot;AAA Batteries (4-pack)&quot;</td><td>&quot;2&quot;</td><td>&quot;2.99&quot;</td><td>&quot;04/28/19 14:36&quot;</td><td>&quot;137 Maple St, Vancouver&quot;</td></tr><tr><td>&quot;194093&quot;</td><td>&quot;AA Batteries (4-pack)&quot;</td><td>&quot;1&quot;</td><td>&quot;3.84&quot;</td><td>&quot;04/14/19 15:09&quot;</td><td>&quot;133 Elm St, Vancouver&quot;</td></tr><tr><td>&quot;194094&quot;</td><td>&quot;Lightning Charging Cable&quot;</td><td>&quot;1&quot;</td><td>&quot;14.95&quot;</td><td>&quot;04/18/19 11:08&quot;</td><td>&quot;105 Pacific Ave, Toronto&quot;</td></tr></tbody></table></div>"
      ],
      "text/plain": [
       "shape: (18_383, 6)\n",
       "┌──────────┬───────────────────┬──────────────────┬────────────┬────────────────┬──────────────────┐\n",
       "│ Order ID ┆ Product           ┆ Quantity Ordered ┆ Price Each ┆ Order Date     ┆ Purchase Address │\n",
       "│ ---      ┆ ---               ┆ ---              ┆ ---        ┆ ---            ┆ ---              │\n",
       "│ str      ┆ str               ┆ str              ┆ str        ┆ str            ┆ str              │\n",
       "╞══════════╪═══════════════════╪══════════════════╪════════════╪════════════════╪══════════════════╡\n",
       "│ 176558   ┆ USB-C Charging    ┆ 2                ┆ 11.95      ┆ 04/19/19 08:46 ┆ 128 Elm St,      │\n",
       "│          ┆ Cable             ┆                  ┆            ┆                ┆ Quebec City      │\n",
       "│ null     ┆ null              ┆ null             ┆ null       ┆ null           ┆ 113 Oak St,      │\n",
       "│          ┆                   ┆                  ┆            ┆                ┆ Ottawa           │\n",
       "│ 176559   ┆ Bose SoundSport   ┆ 1                ┆ 99.99      ┆ 04/07/19 22:30 ┆ 116 Elm St,      │\n",
       "│          ┆ Headphones        ┆                  ┆            ┆                ┆ Winnipeg         │\n",
       "│ 176560   ┆ Google Phone      ┆ 1                ┆ 600        ┆ 04/12/19 14:38 ┆ 149 Broadway,    │\n",
       "│          ┆                   ┆                  ┆            ┆                ┆ Edmonton         │\n",
       "│ 176560   ┆ Wired Headphones  ┆ 1                ┆ 11.99      ┆ 04/12/19 14:38 ┆ 121 Maple St,    │\n",
       "│          ┆                   ┆                  ┆            ┆                ┆ Vancouver        │\n",
       "│ …        ┆ …                 ┆ …                ┆ …          ┆ …              ┆ …                │\n",
       "│ 194090   ┆ Google Phone      ┆ 1                ┆ 600        ┆ 04/08/19 17:11 ┆ 124 Market St,   │\n",
       "│          ┆                   ┆                  ┆            ┆                ┆ Quebec City      │\n",
       "│ 194091   ┆ AA Batteries      ┆ 1                ┆ 3.84       ┆ 04/15/19 16:02 ┆ 130 Cedar Ave,   │\n",
       "│          ┆ (4-pack)          ┆                  ┆            ┆                ┆ Ottawa           │\n",
       "│ 194092   ┆ AAA Batteries     ┆ 2                ┆ 2.99       ┆ 04/28/19 14:36 ┆ 137 Maple St,    │\n",
       "│          ┆ (4-pack)          ┆                  ┆            ┆                ┆ Vancouver        │\n",
       "│ 194093   ┆ AA Batteries      ┆ 1                ┆ 3.84       ┆ 04/14/19 15:09 ┆ 133 Elm St,      │\n",
       "│          ┆ (4-pack)          ┆                  ┆            ┆                ┆ Vancouver        │\n",
       "│ 194094   ┆ Lightning         ┆ 1                ┆ 14.95      ┆ 04/18/19 11:08 ┆ 105 Pacific Ave, │\n",
       "│          ┆ Charging Cable    ┆                  ┆            ┆                ┆ Toronto          │\n",
       "└──────────┴───────────────────┴──────────────────┴────────────┴────────────────┴──────────────────┘"
      ]
     },
     "execution_count": 23,
     "metadata": {},
     "output_type": "execute_result"
    }
   ],
   "source": [
    "canada_sales"
   ]
  },
  {
   "cell_type": "code",
   "execution_count": 53,
   "id": "fdeb5bc4",
   "metadata": {},
   "outputs": [
    {
     "data": {
      "text/html": [
       "<div><style>\n",
       ".dataframe > thead > tr,\n",
       ".dataframe > tbody > tr {\n",
       "  text-align: right;\n",
       "  white-space: pre-wrap;\n",
       "}\n",
       "</style>\n",
       "<small>shape: (18_289, 6)</small><table border=\"1\" class=\"dataframe\"><thead><tr><th>Order ID</th><th>Product</th><th>Quantity Ordered</th><th>Price Each</th><th>Order Date</th><th>Purchase Address</th></tr><tr><td>i64</td><td>str</td><td>i64</td><td>f64</td><td>datetime[μs]</td><td>str</td></tr></thead><tbody><tr><td>176558</td><td>&quot;USB-C Charging Cable&quot;</td><td>2</td><td>9.082</td><td>2019-04-19 08:46:00</td><td>&quot;128 Elm St, Quebec City&quot;</td></tr><tr><td>176559</td><td>&quot;Bose SoundSport Headphones&quot;</td><td>1</td><td>75.9924</td><td>2019-04-07 22:30:00</td><td>&quot;116 Elm St, Winnipeg&quot;</td></tr><tr><td>176560</td><td>&quot;Google Phone&quot;</td><td>1</td><td>456.0</td><td>2019-04-12 14:38:00</td><td>&quot;149 Broadway, Edmonton&quot;</td></tr><tr><td>176560</td><td>&quot;Wired Headphones&quot;</td><td>1</td><td>9.1124</td><td>2019-04-12 14:38:00</td><td>&quot;121 Maple St, Vancouver&quot;</td></tr><tr><td>176561</td><td>&quot;Wired Headphones&quot;</td><td>1</td><td>9.1124</td><td>2019-04-30 09:27:00</td><td>&quot;123 Cedar Ave, Vancouver&quot;</td></tr><tr><td>&hellip;</td><td>&hellip;</td><td>&hellip;</td><td>&hellip;</td><td>&hellip;</td><td>&hellip;</td></tr><tr><td>194090</td><td>&quot;Google Phone&quot;</td><td>1</td><td>456.0</td><td>2019-04-08 17:11:00</td><td>&quot;124 Market St, Quebec City&quot;</td></tr><tr><td>194091</td><td>&quot;AA Batteries (4-pack)&quot;</td><td>1</td><td>2.9184</td><td>2019-04-15 16:02:00</td><td>&quot;130 Cedar Ave, Ottawa&quot;</td></tr><tr><td>194092</td><td>&quot;AAA Batteries (4-pack)&quot;</td><td>2</td><td>2.2724</td><td>2019-04-28 14:36:00</td><td>&quot;137 Maple St, Vancouver&quot;</td></tr><tr><td>194093</td><td>&quot;AA Batteries (4-pack)&quot;</td><td>1</td><td>2.9184</td><td>2019-04-14 15:09:00</td><td>&quot;133 Elm St, Vancouver&quot;</td></tr><tr><td>194094</td><td>&quot;Lightning Charging Cable&quot;</td><td>1</td><td>11.362</td><td>2019-04-18 11:08:00</td><td>&quot;105 Pacific Ave, Toronto&quot;</td></tr></tbody></table></div>"
      ],
      "text/plain": [
       "shape: (18_289, 6)\n",
       "┌──────────┬────────────────────────┬──────────┬────────────┬──────────────┬───────────────────────┐\n",
       "│ Order ID ┆ Product                ┆ Quantity ┆ Price Each ┆ Order Date   ┆ Purchase Address      │\n",
       "│ ---      ┆ ---                    ┆ Ordered  ┆ ---        ┆ ---          ┆ ---                   │\n",
       "│ i64      ┆ str                    ┆ ---      ┆ f64        ┆ datetime[μs] ┆ str                   │\n",
       "│          ┆                        ┆ i64      ┆            ┆              ┆                       │\n",
       "╞══════════╪════════════════════════╪══════════╪════════════╪══════════════╪═══════════════════════╡\n",
       "│ 176558   ┆ USB-C Charging Cable   ┆ 2        ┆ 9.082      ┆ 2019-04-19   ┆ 128 Elm St, Quebec    │\n",
       "│          ┆                        ┆          ┆            ┆ 08:46:00     ┆ City                  │\n",
       "│ 176559   ┆ Bose SoundSport        ┆ 1        ┆ 75.9924    ┆ 2019-04-07   ┆ 116 Elm St, Winnipeg  │\n",
       "│          ┆ Headphones             ┆          ┆            ┆ 22:30:00     ┆                       │\n",
       "│ 176560   ┆ Google Phone           ┆ 1        ┆ 456.0      ┆ 2019-04-12   ┆ 149 Broadway,         │\n",
       "│          ┆                        ┆          ┆            ┆ 14:38:00     ┆ Edmonton              │\n",
       "│ 176560   ┆ Wired Headphones       ┆ 1        ┆ 9.1124     ┆ 2019-04-12   ┆ 121 Maple St,         │\n",
       "│          ┆                        ┆          ┆            ┆ 14:38:00     ┆ Vancouver             │\n",
       "│ 176561   ┆ Wired Headphones       ┆ 1        ┆ 9.1124     ┆ 2019-04-30   ┆ 123 Cedar Ave,        │\n",
       "│          ┆                        ┆          ┆            ┆ 09:27:00     ┆ Vancouver             │\n",
       "│ …        ┆ …                      ┆ …        ┆ …          ┆ …            ┆ …                     │\n",
       "│ 194090   ┆ Google Phone           ┆ 1        ┆ 456.0      ┆ 2019-04-08   ┆ 124 Market St, Quebec │\n",
       "│          ┆                        ┆          ┆            ┆ 17:11:00     ┆ City                  │\n",
       "│ 194091   ┆ AA Batteries (4-pack)  ┆ 1        ┆ 2.9184     ┆ 2019-04-15   ┆ 130 Cedar Ave, Ottawa │\n",
       "│          ┆                        ┆          ┆            ┆ 16:02:00     ┆                       │\n",
       "│ 194092   ┆ AAA Batteries (4-pack) ┆ 2        ┆ 2.2724     ┆ 2019-04-28   ┆ 137 Maple St,         │\n",
       "│          ┆                        ┆          ┆            ┆ 14:36:00     ┆ Vancouver             │\n",
       "│ 194093   ┆ AA Batteries (4-pack)  ┆ 1        ┆ 2.9184     ┆ 2019-04-14   ┆ 133 Elm St, Vancouver │\n",
       "│          ┆                        ┆          ┆            ┆ 15:09:00     ┆                       │\n",
       "│ 194094   ┆ Lightning Charging     ┆ 1        ┆ 11.362     ┆ 2019-04-18   ┆ 105 Pacific Ave,      │\n",
       "│          ┆ Cable                  ┆          ┆            ┆ 11:08:00     ┆ Toronto               │\n",
       "└──────────┴────────────────────────┴──────────┴────────────┴──────────────┴───────────────────────┘"
      ]
     },
     "execution_count": 53,
     "metadata": {},
     "output_type": "execute_result"
    }
   ],
   "source": [
    "canada_sales_fix = (\n",
    "    canada_sales\n",
    "    .drop_nulls()\n",
    "    .filter(pl.col(\"Price Each\") != \"Price Each\")\n",
    "    .with_columns([\n",
    "        pl.col(\"Price Each\").cast(pl.Float64),\n",
    "    ])\n",
    "    .with_columns([\n",
    "        pl.col(\"Price Each\") * CANADA_USD_RATIO,\n",
    "        pl.col(\"Order ID\").cast(pl.Int64),\n",
    "        pl.col(\"Quantity Ordered\").cast(pl.Int64),\n",
    "        pl.col(\"Order Date\").str.strptime(pl.Datetime, \"%m/%d/%y %H:%M\"),\n",
    "    ])\n",
    ")\n",
    "\n",
    "canada_sales_fix"
   ]
  },
  {
   "cell_type": "code",
   "execution_count": 44,
   "id": "1073f145",
   "metadata": {},
   "outputs": [
    {
     "data": {
      "text/html": [
       "<div><style>\n",
       ".dataframe > thead > tr,\n",
       ".dataframe > tbody > tr {\n",
       "  text-align: right;\n",
       "  white-space: pre-wrap;\n",
       "}\n",
       "</style>\n",
       "<small>shape: (18_383,)</small><table border=\"1\" class=\"dataframe\"><thead><tr><th>Order Date</th></tr><tr><td>str</td></tr></thead><tbody><tr><td>&quot;04/19/19 08:46&quot;</td></tr><tr><td>null</td></tr><tr><td>&quot;04/07/19 22:30&quot;</td></tr><tr><td>&quot;04/12/19 14:38&quot;</td></tr><tr><td>&quot;04/12/19 14:38&quot;</td></tr><tr><td>&hellip;</td></tr><tr><td>&quot;04/08/19 17:11&quot;</td></tr><tr><td>&quot;04/15/19 16:02&quot;</td></tr><tr><td>&quot;04/28/19 14:36&quot;</td></tr><tr><td>&quot;04/14/19 15:09&quot;</td></tr><tr><td>&quot;04/18/19 11:08&quot;</td></tr></tbody></table></div>"
      ],
      "text/plain": [
       "shape: (18_383,)\n",
       "Series: 'Order Date' [str]\n",
       "[\n",
       "\t\"04/19/19 08:46\"\n",
       "\tnull\n",
       "\t\"04/07/19 22:30\"\n",
       "\t\"04/12/19 14:38\"\n",
       "\t\"04/12/19 14:38\"\n",
       "\t…\n",
       "\t\"04/08/19 17:11\"\n",
       "\t\"04/15/19 16:02\"\n",
       "\t\"04/28/19 14:36\"\n",
       "\t\"04/14/19 15:09\"\n",
       "\t\"04/18/19 11:08\"\n",
       "]"
      ]
     },
     "execution_count": 44,
     "metadata": {},
     "output_type": "execute_result"
    }
   ],
   "source": [
    "canada_sales[\"Order Date\"]"
   ]
  },
  {
   "cell_type": "code",
   "execution_count": 51,
   "id": "a2e2f9c7",
   "metadata": {},
   "outputs": [
    {
     "data": {
      "text/html": [
       "<div><style>\n",
       ".dataframe > thead > tr,\n",
       ".dataframe > tbody > tr {\n",
       "  text-align: right;\n",
       "  white-space: pre-wrap;\n",
       "}\n",
       "</style>\n",
       "<small>shape: (11_957, 6)</small><table border=\"1\" class=\"dataframe\"><thead><tr><th>Order ID</th><th>Product</th><th>Quantity Ordered</th><th>Price Each</th><th>Order Date</th><th>Purchase Address</th></tr><tr><td>i64</td><td>str</td><td>i64</td><td>f64</td><td>datetime[μs]</td><td>str</td></tr></thead><tbody><tr><td>236670</td><td>&quot;Wired Headphones&quot;</td><td>2</td><td>11.99</td><td>2019-08-31 22:21:00</td><td>&quot;359 Spruce St, Seattle, WA 981…</td></tr><tr><td>236671</td><td>&quot;Bose SoundSport Headphones&quot;</td><td>1</td><td>99.99</td><td>2019-08-15 15:11:00</td><td>&quot;492 Ridge St, Dallas, TX 75001&quot;</td></tr><tr><td>236672</td><td>&quot;iPhone&quot;</td><td>1</td><td>700.0</td><td>2019-08-06 14:40:00</td><td>&quot;149 7th St, Portland, OR 97035&quot;</td></tr><tr><td>236673</td><td>&quot;AA Batteries (4-pack)&quot;</td><td>2</td><td>3.84</td><td>2019-08-29 20:59:00</td><td>&quot;631 2nd St, Los Angeles, CA 90…</td></tr><tr><td>236674</td><td>&quot;AA Batteries (4-pack)&quot;</td><td>2</td><td>3.84</td><td>2019-08-15 19:53:00</td><td>&quot;736 14th St, New York City, NY…</td></tr><tr><td>&hellip;</td><td>&hellip;</td><td>&hellip;</td><td>&hellip;</td><td>&hellip;</td><td>&hellip;</td></tr><tr><td>248146</td><td>&quot;Bose SoundSport Headphones&quot;</td><td>1</td><td>99.99</td><td>2019-08-29 22:19:00</td><td>&quot;868 Hickory St, San Francisco,…</td></tr><tr><td>248147</td><td>&quot;AAA Batteries (4-pack)&quot;</td><td>3</td><td>2.99</td><td>2019-08-31 16:26:00</td><td>&quot;206 Lakeview St, Boston, MA 02…</td></tr><tr><td>248148</td><td>&quot;AA Batteries (4-pack)&quot;</td><td>1</td><td>3.84</td><td>2019-08-02 07:25:00</td><td>&quot;568 13th St, Seattle, WA 98101&quot;</td></tr><tr><td>248149</td><td>&quot;USB-C Charging Cable&quot;</td><td>1</td><td>11.95</td><td>2019-08-08 12:10:00</td><td>&quot;495 Walnut St, San Francisco, …</td></tr><tr><td>248150</td><td>&quot;AA Batteries (4-pack)&quot;</td><td>1</td><td>3.84</td><td>2019-08-16 08:13:00</td><td>&quot;738 Park St, Los Angeles, CA 9…</td></tr></tbody></table></div>"
      ],
      "text/plain": [
       "shape: (11_957, 6)\n",
       "┌──────────┬────────────────────────┬──────────┬────────────┬──────────────┬───────────────────────┐\n",
       "│ Order ID ┆ Product                ┆ Quantity ┆ Price Each ┆ Order Date   ┆ Purchase Address      │\n",
       "│ ---      ┆ ---                    ┆ Ordered  ┆ ---        ┆ ---          ┆ ---                   │\n",
       "│ i64      ┆ str                    ┆ ---      ┆ f64        ┆ datetime[μs] ┆ str                   │\n",
       "│          ┆                        ┆ i64      ┆            ┆              ┆                       │\n",
       "╞══════════╪════════════════════════╪══════════╪════════════╪══════════════╪═══════════════════════╡\n",
       "│ 236670   ┆ Wired Headphones       ┆ 2        ┆ 11.99      ┆ 2019-08-31   ┆ 359 Spruce St,        │\n",
       "│          ┆                        ┆          ┆            ┆ 22:21:00     ┆ Seattle, WA 981…      │\n",
       "│ 236671   ┆ Bose SoundSport        ┆ 1        ┆ 99.99      ┆ 2019-08-15   ┆ 492 Ridge St, Dallas, │\n",
       "│          ┆ Headphones             ┆          ┆            ┆ 15:11:00     ┆ TX 75001              │\n",
       "│ 236672   ┆ iPhone                 ┆ 1        ┆ 700.0      ┆ 2019-08-06   ┆ 149 7th St, Portland, │\n",
       "│          ┆                        ┆          ┆            ┆ 14:40:00     ┆ OR 97035              │\n",
       "│ 236673   ┆ AA Batteries (4-pack)  ┆ 2        ┆ 3.84       ┆ 2019-08-29   ┆ 631 2nd St, Los       │\n",
       "│          ┆                        ┆          ┆            ┆ 20:59:00     ┆ Angeles, CA 90…       │\n",
       "│ 236674   ┆ AA Batteries (4-pack)  ┆ 2        ┆ 3.84       ┆ 2019-08-15   ┆ 736 14th St, New York │\n",
       "│          ┆                        ┆          ┆            ┆ 19:53:00     ┆ City, NY…             │\n",
       "│ …        ┆ …                      ┆ …        ┆ …          ┆ …            ┆ …                     │\n",
       "│ 248146   ┆ Bose SoundSport        ┆ 1        ┆ 99.99      ┆ 2019-08-29   ┆ 868 Hickory St, San   │\n",
       "│          ┆ Headphones             ┆          ┆            ┆ 22:19:00     ┆ Francisco,…           │\n",
       "│ 248147   ┆ AAA Batteries (4-pack) ┆ 3        ┆ 2.99       ┆ 2019-08-31   ┆ 206 Lakeview St,      │\n",
       "│          ┆                        ┆          ┆            ┆ 16:26:00     ┆ Boston, MA 02…        │\n",
       "│ 248148   ┆ AA Batteries (4-pack)  ┆ 1        ┆ 3.84       ┆ 2019-08-02   ┆ 568 13th St, Seattle, │\n",
       "│          ┆                        ┆          ┆            ┆ 07:25:00     ┆ WA 98101              │\n",
       "│ 248149   ┆ USB-C Charging Cable   ┆ 1        ┆ 11.95      ┆ 2019-08-08   ┆ 495 Walnut St, San    │\n",
       "│          ┆                        ┆          ┆            ┆ 12:10:00     ┆ Francisco, …          │\n",
       "│ 248150   ┆ AA Batteries (4-pack)  ┆ 1        ┆ 3.84       ┆ 2019-08-16   ┆ 738 Park St, Los      │\n",
       "│          ┆                        ┆          ┆            ┆ 08:13:00     ┆ Angeles, CA 9…        │\n",
       "└──────────┴────────────────────────┴──────────┴────────────┴──────────────┴───────────────────────┘"
      ]
     },
     "execution_count": 51,
     "metadata": {},
     "output_type": "execute_result"
    }
   ],
   "source": [
    "usa_sales_fix = (\n",
    "    usa_sales\n",
    "    .drop_nulls()\n",
    "    .filter(pl.col(\"Price Each\") != \"Price Each\")\n",
    "    .with_columns([\n",
    "        pl.col(\"Price Each\").cast(pl.Float64),\n",
    "        pl.col(\"Order ID\").cast(pl.Int64),\n",
    "        pl.col(\"Quantity Ordered\").cast(pl.Int64),\n",
    "        pl.col(\"Order Date\").str.strptime(pl.Datetime, \"%m/%d/%y %H:%M\"),\n",
    "    ])\n",
    ")\n",
    "\n",
    "usa_sales_fix"
   ]
  },
  {
   "cell_type": "code",
   "execution_count": 52,
   "id": "c6f3d522",
   "metadata": {},
   "outputs": [
    {
     "data": {
      "text/html": [
       "<div><style>\n",
       ".dataframe > thead > tr,\n",
       ".dataframe > tbody > tr {\n",
       "  text-align: right;\n",
       "  white-space: pre-wrap;\n",
       "}\n",
       "</style>\n",
       "<small>shape: (30_246, 6)</small><table border=\"1\" class=\"dataframe\"><thead><tr><th>Order ID</th><th>Product</th><th>Quantity Ordered</th><th>Price Each</th><th>Order Date</th><th>Purchase Address</th></tr><tr><td>i64</td><td>str</td><td>i64</td><td>f64</td><td>datetime[μs]</td><td>str</td></tr></thead><tbody><tr><td>176558</td><td>&quot;USB-C Charging Cable&quot;</td><td>2</td><td>9.082</td><td>2019-04-19 08:46:00</td><td>&quot;128 Elm St, Quebec City&quot;</td></tr><tr><td>176559</td><td>&quot;Bose SoundSport Headphones&quot;</td><td>1</td><td>75.9924</td><td>2019-04-07 22:30:00</td><td>&quot;116 Elm St, Winnipeg&quot;</td></tr><tr><td>176560</td><td>&quot;Google Phone&quot;</td><td>1</td><td>456.0</td><td>2019-04-12 14:38:00</td><td>&quot;149 Broadway, Edmonton&quot;</td></tr><tr><td>176560</td><td>&quot;Wired Headphones&quot;</td><td>1</td><td>9.1124</td><td>2019-04-12 14:38:00</td><td>&quot;121 Maple St, Vancouver&quot;</td></tr><tr><td>176561</td><td>&quot;Wired Headphones&quot;</td><td>1</td><td>9.1124</td><td>2019-04-30 09:27:00</td><td>&quot;123 Cedar Ave, Vancouver&quot;</td></tr><tr><td>&hellip;</td><td>&hellip;</td><td>&hellip;</td><td>&hellip;</td><td>&hellip;</td><td>&hellip;</td></tr><tr><td>248146</td><td>&quot;Bose SoundSport Headphones&quot;</td><td>1</td><td>99.99</td><td>2019-08-29 22:19:00</td><td>&quot;868 Hickory St, San Francisco,…</td></tr><tr><td>248147</td><td>&quot;AAA Batteries (4-pack)&quot;</td><td>3</td><td>2.99</td><td>2019-08-31 16:26:00</td><td>&quot;206 Lakeview St, Boston, MA 02…</td></tr><tr><td>248148</td><td>&quot;AA Batteries (4-pack)&quot;</td><td>1</td><td>3.84</td><td>2019-08-02 07:25:00</td><td>&quot;568 13th St, Seattle, WA 98101&quot;</td></tr><tr><td>248149</td><td>&quot;USB-C Charging Cable&quot;</td><td>1</td><td>11.95</td><td>2019-08-08 12:10:00</td><td>&quot;495 Walnut St, San Francisco, …</td></tr><tr><td>248150</td><td>&quot;AA Batteries (4-pack)&quot;</td><td>1</td><td>3.84</td><td>2019-08-16 08:13:00</td><td>&quot;738 Park St, Los Angeles, CA 9…</td></tr></tbody></table></div>"
      ],
      "text/plain": [
       "shape: (30_246, 6)\n",
       "┌──────────┬────────────────────────┬──────────┬────────────┬──────────────┬───────────────────────┐\n",
       "│ Order ID ┆ Product                ┆ Quantity ┆ Price Each ┆ Order Date   ┆ Purchase Address      │\n",
       "│ ---      ┆ ---                    ┆ Ordered  ┆ ---        ┆ ---          ┆ ---                   │\n",
       "│ i64      ┆ str                    ┆ ---      ┆ f64        ┆ datetime[μs] ┆ str                   │\n",
       "│          ┆                        ┆ i64      ┆            ┆              ┆                       │\n",
       "╞══════════╪════════════════════════╪══════════╪════════════╪══════════════╪═══════════════════════╡\n",
       "│ 176558   ┆ USB-C Charging Cable   ┆ 2        ┆ 9.082      ┆ 2019-04-19   ┆ 128 Elm St, Quebec    │\n",
       "│          ┆                        ┆          ┆            ┆ 08:46:00     ┆ City                  │\n",
       "│ 176559   ┆ Bose SoundSport        ┆ 1        ┆ 75.9924    ┆ 2019-04-07   ┆ 116 Elm St, Winnipeg  │\n",
       "│          ┆ Headphones             ┆          ┆            ┆ 22:30:00     ┆                       │\n",
       "│ 176560   ┆ Google Phone           ┆ 1        ┆ 456.0      ┆ 2019-04-12   ┆ 149 Broadway,         │\n",
       "│          ┆                        ┆          ┆            ┆ 14:38:00     ┆ Edmonton              │\n",
       "│ 176560   ┆ Wired Headphones       ┆ 1        ┆ 9.1124     ┆ 2019-04-12   ┆ 121 Maple St,         │\n",
       "│          ┆                        ┆          ┆            ┆ 14:38:00     ┆ Vancouver             │\n",
       "│ 176561   ┆ Wired Headphones       ┆ 1        ┆ 9.1124     ┆ 2019-04-30   ┆ 123 Cedar Ave,        │\n",
       "│          ┆                        ┆          ┆            ┆ 09:27:00     ┆ Vancouver             │\n",
       "│ …        ┆ …                      ┆ …        ┆ …          ┆ …            ┆ …                     │\n",
       "│ 248146   ┆ Bose SoundSport        ┆ 1        ┆ 99.99      ┆ 2019-08-29   ┆ 868 Hickory St, San   │\n",
       "│          ┆ Headphones             ┆          ┆            ┆ 22:19:00     ┆ Francisco,…           │\n",
       "│ 248147   ┆ AAA Batteries (4-pack) ┆ 3        ┆ 2.99       ┆ 2019-08-31   ┆ 206 Lakeview St,      │\n",
       "│          ┆                        ┆          ┆            ┆ 16:26:00     ┆ Boston, MA 02…        │\n",
       "│ 248148   ┆ AA Batteries (4-pack)  ┆ 1        ┆ 3.84       ┆ 2019-08-02   ┆ 568 13th St, Seattle, │\n",
       "│          ┆                        ┆          ┆            ┆ 07:25:00     ┆ WA 98101              │\n",
       "│ 248149   ┆ USB-C Charging Cable   ┆ 1        ┆ 11.95      ┆ 2019-08-08   ┆ 495 Walnut St, San    │\n",
       "│          ┆                        ┆          ┆            ┆ 12:10:00     ┆ Francisco, …          │\n",
       "│ 248150   ┆ AA Batteries (4-pack)  ┆ 1        ┆ 3.84       ┆ 2019-08-16   ┆ 738 Park St, Los      │\n",
       "│          ┆                        ┆          ┆            ┆ 08:13:00     ┆ Angeles, CA 9…        │\n",
       "└──────────┴────────────────────────┴──────────┴────────────┴──────────────┴───────────────────────┘"
      ]
     },
     "execution_count": 52,
     "metadata": {},
     "output_type": "execute_result"
    }
   ],
   "source": [
    "combined_sales = pl.concat([canada_sales_fix, usa_sales_fix], how=\"vertical\")\n",
    "combined_sales"
   ]
  },
  {
   "cell_type": "code",
   "execution_count": 59,
   "id": "d130e8d3",
   "metadata": {},
   "outputs": [
    {
     "data": {
      "text/html": [
       "<div><style>\n",
       ".dataframe > thead > tr,\n",
       ".dataframe > tbody > tr {\n",
       "  text-align: right;\n",
       "  white-space: pre-wrap;\n",
       "}\n",
       "</style>\n",
       "<small>shape: (29_018, 6)</small><table border=\"1\" class=\"dataframe\"><thead><tr><th>Order ID</th><th>Product</th><th>Quantity Ordered</th><th>Price Each</th><th>Order Date</th><th>Purchase Address</th></tr><tr><td>i64</td><td>str</td><td>i64</td><td>f64</td><td>datetime[μs]</td><td>str</td></tr></thead><tbody><tr><td>182449</td><td>&quot;Apple Airpods Headphones&quot;</td><td>1</td><td>114.0</td><td>2019-04-29 00:18:00</td><td>&quot;115 Pine St, Toronto&quot;</td></tr><tr><td>177405</td><td>&quot;Lightning Charging Cable&quot;</td><td>1</td><td>11.362</td><td>2019-04-09 16:38:00</td><td>&quot;128 Market St, Hamilton&quot;</td></tr><tr><td>240282</td><td>&quot;Wired Headphones&quot;</td><td>1</td><td>11.99</td><td>2019-08-31 19:33:00</td><td>&quot;288 Maple St, Los Angeles, CA …</td></tr><tr><td>244698</td><td>&quot;Apple Airpods Headphones&quot;</td><td>1</td><td>150.0</td><td>2019-08-30 13:43:00</td><td>&quot;725 Walnut St, Seattle, WA 981…</td></tr><tr><td>180535</td><td>&quot;iPhone&quot;</td><td>1</td><td>532.0</td><td>2019-04-27 21:51:00</td><td>&quot;132 Cedar Ave, Toronto&quot;</td></tr><tr><td>&hellip;</td><td>&hellip;</td><td>&hellip;</td><td>&hellip;</td><td>&hellip;</td><td>&hellip;</td></tr><tr><td>180452</td><td>&quot;Lightning Charging Cable&quot;</td><td>1</td><td>11.362</td><td>2019-04-24 14:47:00</td><td>&quot;137 Maple St, Quebec City&quot;</td></tr><tr><td>245503</td><td>&quot;Lightning Charging Cable&quot;</td><td>1</td><td>14.95</td><td>2019-08-28 18:01:00</td><td>&quot;453 9th St, New York City, NY …</td></tr><tr><td>186604</td><td>&quot;Lightning Charging Cable&quot;</td><td>2</td><td>11.362</td><td>2019-04-22 14:36:00</td><td>&quot;115 Oak St, Ottawa&quot;</td></tr><tr><td>185038</td><td>&quot;AAA Batteries (4-pack)&quot;</td><td>1</td><td>2.2724</td><td>2019-04-25 08:10:00</td><td>&quot;137 Elm St, Toronto&quot;</td></tr><tr><td>177080</td><td>&quot;AAA Batteries (4-pack)&quot;</td><td>1</td><td>2.2724</td><td>2019-04-14 17:33:00</td><td>&quot;137 Sunset Blvd, Quebec City&quot;</td></tr></tbody></table></div>"
      ],
      "text/plain": [
       "shape: (29_018, 6)\n",
       "┌──────────┬────────────────────┬──────────┬────────────┬──────────────┬───────────────────────────┐\n",
       "│ Order ID ┆ Product            ┆ Quantity ┆ Price Each ┆ Order Date   ┆ Purchase Address          │\n",
       "│ ---      ┆ ---                ┆ Ordered  ┆ ---        ┆ ---          ┆ ---                       │\n",
       "│ i64      ┆ str                ┆ ---      ┆ f64        ┆ datetime[μs] ┆ str                       │\n",
       "│          ┆                    ┆ i64      ┆            ┆              ┆                           │\n",
       "╞══════════╪════════════════════╪══════════╪════════════╪══════════════╪═══════════════════════════╡\n",
       "│ 182449   ┆ Apple Airpods      ┆ 1        ┆ 114.0      ┆ 2019-04-29   ┆ 115 Pine St, Toronto      │\n",
       "│          ┆ Headphones         ┆          ┆            ┆ 00:18:00     ┆                           │\n",
       "│ 177405   ┆ Lightning Charging ┆ 1        ┆ 11.362     ┆ 2019-04-09   ┆ 128 Market St, Hamilton   │\n",
       "│          ┆ Cable              ┆          ┆            ┆ 16:38:00     ┆                           │\n",
       "│ 240282   ┆ Wired Headphones   ┆ 1        ┆ 11.99      ┆ 2019-08-31   ┆ 288 Maple St, Los         │\n",
       "│          ┆                    ┆          ┆            ┆ 19:33:00     ┆ Angeles, CA …             │\n",
       "│ 244698   ┆ Apple Airpods      ┆ 1        ┆ 150.0      ┆ 2019-08-30   ┆ 725 Walnut St, Seattle,   │\n",
       "│          ┆ Headphones         ┆          ┆            ┆ 13:43:00     ┆ WA 981…                   │\n",
       "│ 180535   ┆ iPhone             ┆ 1        ┆ 532.0      ┆ 2019-04-27   ┆ 132 Cedar Ave, Toronto    │\n",
       "│          ┆                    ┆          ┆            ┆ 21:51:00     ┆                           │\n",
       "│ …        ┆ …                  ┆ …        ┆ …          ┆ …            ┆ …                         │\n",
       "│ 180452   ┆ Lightning Charging ┆ 1        ┆ 11.362     ┆ 2019-04-24   ┆ 137 Maple St, Quebec City │\n",
       "│          ┆ Cable              ┆          ┆            ┆ 14:47:00     ┆                           │\n",
       "│ 245503   ┆ Lightning Charging ┆ 1        ┆ 14.95      ┆ 2019-08-28   ┆ 453 9th St, New York      │\n",
       "│          ┆ Cable              ┆          ┆            ┆ 18:01:00     ┆ City, NY …                │\n",
       "│ 186604   ┆ Lightning Charging ┆ 2        ┆ 11.362     ┆ 2019-04-22   ┆ 115 Oak St, Ottawa        │\n",
       "│          ┆ Cable              ┆          ┆            ┆ 14:36:00     ┆                           │\n",
       "│ 185038   ┆ AAA Batteries      ┆ 1        ┆ 2.2724     ┆ 2019-04-25   ┆ 137 Elm St, Toronto       │\n",
       "│          ┆ (4-pack)           ┆          ┆            ┆ 08:10:00     ┆                           │\n",
       "│ 177080   ┆ AAA Batteries      ┆ 1        ┆ 2.2724     ┆ 2019-04-14   ┆ 137 Sunset Blvd, Quebec   │\n",
       "│          ┆ (4-pack)           ┆          ┆            ┆ 17:33:00     ┆ City                      │\n",
       "└──────────┴────────────────────┴──────────┴────────────┴──────────────┴───────────────────────────┘"
      ]
     },
     "execution_count": 59,
     "metadata": {},
     "output_type": "execute_result"
    }
   ],
   "source": [
    "combined_sales.unique(subset=[\"Order ID\"])"
   ]
  }
 ],
 "metadata": {
  "kernelspec": {
   "display_name": ".venv",
   "language": "python",
   "name": "python3"
  },
  "language_info": {
   "codemirror_mode": {
    "name": "ipython",
    "version": 3
   },
   "file_extension": ".py",
   "mimetype": "text/x-python",
   "name": "python",
   "nbconvert_exporter": "python",
   "pygments_lexer": "ipython3",
   "version": "3.12.1"
  }
 },
 "nbformat": 4,
 "nbformat_minor": 5
}
