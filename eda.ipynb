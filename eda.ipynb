{
 "cells": [
  {
   "cell_type": "code",
   "execution_count": 2,
   "id": "b239d637",
   "metadata": {},
   "outputs": [],
   "source": [
    "import polars as pl\n",
    "\n",
    "from src.config import DATA_PATH"
   ]
  },
  {
   "cell_type": "code",
   "execution_count": 7,
   "id": "f6cfd842",
   "metadata": {},
   "outputs": [],
   "source": [
    "canada_sales = pl.read_csv(DATA_PATH / \"canada_sales.csv\", infer_schema_length=10000)\n",
    "usa_sales = pl.read_csv(DATA_PATH / \"usa_sales.csv\", infer_schema_length=10000)"
   ]
  },
  {
   "cell_type": "code",
   "execution_count": 8,
   "id": "b3e29438",
   "metadata": {},
   "outputs": [
    {
     "data": {
      "text/html": [
       "<div><style>\n",
       ".dataframe > thead > tr,\n",
       ".dataframe > tbody > tr {\n",
       "  text-align: right;\n",
       "  white-space: pre-wrap;\n",
       "}\n",
       "</style>\n",
       "<small>shape: (18_383, 6)</small><table border=\"1\" class=\"dataframe\"><thead><tr><th>Order ID</th><th>Product</th><th>Quantity Ordered</th><th>Price Each</th><th>Order Date</th><th>Purchase Address</th></tr><tr><td>str</td><td>str</td><td>str</td><td>str</td><td>str</td><td>str</td></tr></thead><tbody><tr><td>&quot;176558&quot;</td><td>&quot;USB-C Charging Cable&quot;</td><td>&quot;2&quot;</td><td>&quot;11.95&quot;</td><td>&quot;04/19/19 08:46&quot;</td><td>&quot;128 Elm St, Quebec City&quot;</td></tr><tr><td>null</td><td>null</td><td>null</td><td>null</td><td>null</td><td>&quot;113 Oak St, Ottawa&quot;</td></tr><tr><td>&quot;176559&quot;</td><td>&quot;Bose SoundSport Headphones&quot;</td><td>&quot;1&quot;</td><td>&quot;99.99&quot;</td><td>&quot;04/07/19 22:30&quot;</td><td>&quot;116 Elm St, Winnipeg&quot;</td></tr><tr><td>&quot;176560&quot;</td><td>&quot;Google Phone&quot;</td><td>&quot;1&quot;</td><td>&quot;600&quot;</td><td>&quot;04/12/19 14:38&quot;</td><td>&quot;149 Broadway, Edmonton&quot;</td></tr><tr><td>&quot;176560&quot;</td><td>&quot;Wired Headphones&quot;</td><td>&quot;1&quot;</td><td>&quot;11.99&quot;</td><td>&quot;04/12/19 14:38&quot;</td><td>&quot;121 Maple St, Vancouver&quot;</td></tr><tr><td>&hellip;</td><td>&hellip;</td><td>&hellip;</td><td>&hellip;</td><td>&hellip;</td><td>&hellip;</td></tr><tr><td>&quot;194090&quot;</td><td>&quot;Google Phone&quot;</td><td>&quot;1&quot;</td><td>&quot;600&quot;</td><td>&quot;04/08/19 17:11&quot;</td><td>&quot;124 Market St, Quebec City&quot;</td></tr><tr><td>&quot;194091&quot;</td><td>&quot;AA Batteries (4-pack)&quot;</td><td>&quot;1&quot;</td><td>&quot;3.84&quot;</td><td>&quot;04/15/19 16:02&quot;</td><td>&quot;130 Cedar Ave, Ottawa&quot;</td></tr><tr><td>&quot;194092&quot;</td><td>&quot;AAA Batteries (4-pack)&quot;</td><td>&quot;2&quot;</td><td>&quot;2.99&quot;</td><td>&quot;04/28/19 14:36&quot;</td><td>&quot;137 Maple St, Vancouver&quot;</td></tr><tr><td>&quot;194093&quot;</td><td>&quot;AA Batteries (4-pack)&quot;</td><td>&quot;1&quot;</td><td>&quot;3.84&quot;</td><td>&quot;04/14/19 15:09&quot;</td><td>&quot;133 Elm St, Vancouver&quot;</td></tr><tr><td>&quot;194094&quot;</td><td>&quot;Lightning Charging Cable&quot;</td><td>&quot;1&quot;</td><td>&quot;14.95&quot;</td><td>&quot;04/18/19 11:08&quot;</td><td>&quot;105 Pacific Ave, Toronto&quot;</td></tr></tbody></table></div>"
      ],
      "text/plain": [
       "shape: (18_383, 6)\n",
       "┌──────────┬───────────────────┬──────────────────┬────────────┬────────────────┬──────────────────┐\n",
       "│ Order ID ┆ Product           ┆ Quantity Ordered ┆ Price Each ┆ Order Date     ┆ Purchase Address │\n",
       "│ ---      ┆ ---               ┆ ---              ┆ ---        ┆ ---            ┆ ---              │\n",
       "│ str      ┆ str               ┆ str              ┆ str        ┆ str            ┆ str              │\n",
       "╞══════════╪═══════════════════╪══════════════════╪════════════╪════════════════╪══════════════════╡\n",
       "│ 176558   ┆ USB-C Charging    ┆ 2                ┆ 11.95      ┆ 04/19/19 08:46 ┆ 128 Elm St,      │\n",
       "│          ┆ Cable             ┆                  ┆            ┆                ┆ Quebec City      │\n",
       "│ null     ┆ null              ┆ null             ┆ null       ┆ null           ┆ 113 Oak St,      │\n",
       "│          ┆                   ┆                  ┆            ┆                ┆ Ottawa           │\n",
       "│ 176559   ┆ Bose SoundSport   ┆ 1                ┆ 99.99      ┆ 04/07/19 22:30 ┆ 116 Elm St,      │\n",
       "│          ┆ Headphones        ┆                  ┆            ┆                ┆ Winnipeg         │\n",
       "│ 176560   ┆ Google Phone      ┆ 1                ┆ 600        ┆ 04/12/19 14:38 ┆ 149 Broadway,    │\n",
       "│          ┆                   ┆                  ┆            ┆                ┆ Edmonton         │\n",
       "│ 176560   ┆ Wired Headphones  ┆ 1                ┆ 11.99      ┆ 04/12/19 14:38 ┆ 121 Maple St,    │\n",
       "│          ┆                   ┆                  ┆            ┆                ┆ Vancouver        │\n",
       "│ …        ┆ …                 ┆ …                ┆ …          ┆ …              ┆ …                │\n",
       "│ 194090   ┆ Google Phone      ┆ 1                ┆ 600        ┆ 04/08/19 17:11 ┆ 124 Market St,   │\n",
       "│          ┆                   ┆                  ┆            ┆                ┆ Quebec City      │\n",
       "│ 194091   ┆ AA Batteries      ┆ 1                ┆ 3.84       ┆ 04/15/19 16:02 ┆ 130 Cedar Ave,   │\n",
       "│          ┆ (4-pack)          ┆                  ┆            ┆                ┆ Ottawa           │\n",
       "│ 194092   ┆ AAA Batteries     ┆ 2                ┆ 2.99       ┆ 04/28/19 14:36 ┆ 137 Maple St,    │\n",
       "│          ┆ (4-pack)          ┆                  ┆            ┆                ┆ Vancouver        │\n",
       "│ 194093   ┆ AA Batteries      ┆ 1                ┆ 3.84       ┆ 04/14/19 15:09 ┆ 133 Elm St,      │\n",
       "│          ┆ (4-pack)          ┆                  ┆            ┆                ┆ Vancouver        │\n",
       "│ 194094   ┆ Lightning         ┆ 1                ┆ 14.95      ┆ 04/18/19 11:08 ┆ 105 Pacific Ave, │\n",
       "│          ┆ Charging Cable    ┆                  ┆            ┆                ┆ Toronto          │\n",
       "└──────────┴───────────────────┴──────────────────┴────────────┴────────────────┴──────────────────┘"
      ]
     },
     "execution_count": 8,
     "metadata": {},
     "output_type": "execute_result"
    }
   ],
   "source": [
    "canada_sales"
   ]
  },
  {
   "cell_type": "code",
   "execution_count": 9,
   "id": "a2e2f9c7",
   "metadata": {},
   "outputs": [
    {
     "data": {
      "text/html": [
       "<div><style>\n",
       ".dataframe > thead > tr,\n",
       ".dataframe > tbody > tr {\n",
       "  text-align: right;\n",
       "  white-space: pre-wrap;\n",
       "}\n",
       "</style>\n",
       "<small>shape: (12_011, 6)</small><table border=\"1\" class=\"dataframe\"><thead><tr><th>Order ID</th><th>Product</th><th>Quantity Ordered</th><th>Price Each</th><th>Order Date</th><th>Purchase Address</th></tr><tr><td>str</td><td>str</td><td>str</td><td>str</td><td>str</td><td>str</td></tr></thead><tbody><tr><td>&quot;236670&quot;</td><td>&quot;Wired Headphones&quot;</td><td>&quot;2&quot;</td><td>&quot;11.99&quot;</td><td>&quot;08/31/19 22:21&quot;</td><td>&quot;359 Spruce St, Seattle, WA 981…</td></tr><tr><td>&quot;236671&quot;</td><td>&quot;Bose SoundSport Headphones&quot;</td><td>&quot;1&quot;</td><td>&quot;99.99&quot;</td><td>&quot;08/15/19 15:11&quot;</td><td>&quot;492 Ridge St, Dallas, TX 75001&quot;</td></tr><tr><td>&quot;236672&quot;</td><td>&quot;iPhone&quot;</td><td>&quot;1&quot;</td><td>&quot;700.0&quot;</td><td>&quot;08/06/19 14:40&quot;</td><td>&quot;149 7th St, Portland, OR 97035&quot;</td></tr><tr><td>&quot;236673&quot;</td><td>&quot;AA Batteries (4-pack)&quot;</td><td>&quot;2&quot;</td><td>&quot;3.84&quot;</td><td>&quot;08/29/19 20:59&quot;</td><td>&quot;631 2nd St, Los Angeles, CA 90…</td></tr><tr><td>&quot;236674&quot;</td><td>&quot;AA Batteries (4-pack)&quot;</td><td>&quot;2&quot;</td><td>&quot;3.84&quot;</td><td>&quot;08/15/19 19:53&quot;</td><td>&quot;736 14th St, New York City, NY…</td></tr><tr><td>&hellip;</td><td>&hellip;</td><td>&hellip;</td><td>&hellip;</td><td>&hellip;</td><td>&hellip;</td></tr><tr><td>&quot;248146&quot;</td><td>&quot;Bose SoundSport Headphones&quot;</td><td>&quot;1&quot;</td><td>&quot;99.99&quot;</td><td>&quot;08/29/19 22:19&quot;</td><td>&quot;868 Hickory St, San Francisco,…</td></tr><tr><td>&quot;248147&quot;</td><td>&quot;AAA Batteries (4-pack)&quot;</td><td>&quot;3&quot;</td><td>&quot;2.99&quot;</td><td>&quot;08/31/19 16:26&quot;</td><td>&quot;206 Lakeview St, Boston, MA 02…</td></tr><tr><td>&quot;248148&quot;</td><td>&quot;AA Batteries (4-pack)&quot;</td><td>&quot;1&quot;</td><td>&quot;3.84&quot;</td><td>&quot;08/02/19 07:25&quot;</td><td>&quot;568 13th St, Seattle, WA 98101&quot;</td></tr><tr><td>&quot;248149&quot;</td><td>&quot;USB-C Charging Cable&quot;</td><td>&quot;1&quot;</td><td>&quot;11.95&quot;</td><td>&quot;08/08/19 12:10&quot;</td><td>&quot;495 Walnut St, San Francisco, …</td></tr><tr><td>&quot;248150&quot;</td><td>&quot;AA Batteries (4-pack)&quot;</td><td>&quot;1&quot;</td><td>&quot;3.84&quot;</td><td>&quot;08/16/19 08:13&quot;</td><td>&quot;738 Park St, Los Angeles, CA 9…</td></tr></tbody></table></div>"
      ],
      "text/plain": [
       "shape: (12_011, 6)\n",
       "┌──────────┬───────────────────┬──────────────────┬────────────┬────────────────┬──────────────────┐\n",
       "│ Order ID ┆ Product           ┆ Quantity Ordered ┆ Price Each ┆ Order Date     ┆ Purchase Address │\n",
       "│ ---      ┆ ---               ┆ ---              ┆ ---        ┆ ---            ┆ ---              │\n",
       "│ str      ┆ str               ┆ str              ┆ str        ┆ str            ┆ str              │\n",
       "╞══════════╪═══════════════════╪══════════════════╪════════════╪════════════════╪══════════════════╡\n",
       "│ 236670   ┆ Wired Headphones  ┆ 2                ┆ 11.99      ┆ 08/31/19 22:21 ┆ 359 Spruce St,   │\n",
       "│          ┆                   ┆                  ┆            ┆                ┆ Seattle, WA 981… │\n",
       "│ 236671   ┆ Bose SoundSport   ┆ 1                ┆ 99.99      ┆ 08/15/19 15:11 ┆ 492 Ridge St,    │\n",
       "│          ┆ Headphones        ┆                  ┆            ┆                ┆ Dallas, TX 75001 │\n",
       "│ 236672   ┆ iPhone            ┆ 1                ┆ 700.0      ┆ 08/06/19 14:40 ┆ 149 7th St,      │\n",
       "│          ┆                   ┆                  ┆            ┆                ┆ Portland, OR     │\n",
       "│          ┆                   ┆                  ┆            ┆                ┆ 97035            │\n",
       "│ 236673   ┆ AA Batteries      ┆ 2                ┆ 3.84       ┆ 08/29/19 20:59 ┆ 631 2nd St, Los  │\n",
       "│          ┆ (4-pack)          ┆                  ┆            ┆                ┆ Angeles, CA 90…  │\n",
       "│ 236674   ┆ AA Batteries      ┆ 2                ┆ 3.84       ┆ 08/15/19 19:53 ┆ 736 14th St, New │\n",
       "│          ┆ (4-pack)          ┆                  ┆            ┆                ┆ York City, NY…   │\n",
       "│ …        ┆ …                 ┆ …                ┆ …          ┆ …              ┆ …                │\n",
       "│ 248146   ┆ Bose SoundSport   ┆ 1                ┆ 99.99      ┆ 08/29/19 22:19 ┆ 868 Hickory St,  │\n",
       "│          ┆ Headphones        ┆                  ┆            ┆                ┆ San Francisco,…  │\n",
       "│ 248147   ┆ AAA Batteries     ┆ 3                ┆ 2.99       ┆ 08/31/19 16:26 ┆ 206 Lakeview St, │\n",
       "│          ┆ (4-pack)          ┆                  ┆            ┆                ┆ Boston, MA 02…   │\n",
       "│ 248148   ┆ AA Batteries      ┆ 1                ┆ 3.84       ┆ 08/02/19 07:25 ┆ 568 13th St,     │\n",
       "│          ┆ (4-pack)          ┆                  ┆            ┆                ┆ Seattle, WA      │\n",
       "│          ┆                   ┆                  ┆            ┆                ┆ 98101            │\n",
       "│ 248149   ┆ USB-C Charging    ┆ 1                ┆ 11.95      ┆ 08/08/19 12:10 ┆ 495 Walnut St,   │\n",
       "│          ┆ Cable             ┆                  ┆            ┆                ┆ San Francisco, … │\n",
       "│ 248150   ┆ AA Batteries      ┆ 1                ┆ 3.84       ┆ 08/16/19 08:13 ┆ 738 Park St, Los │\n",
       "│          ┆ (4-pack)          ┆                  ┆            ┆                ┆ Angeles, CA 9…   │\n",
       "└──────────┴───────────────────┴──────────────────┴────────────┴────────────────┴──────────────────┘"
      ]
     },
     "execution_count": 9,
     "metadata": {},
     "output_type": "execute_result"
    }
   ],
   "source": [
    "usa_sales"
   ]
  }
 ],
 "metadata": {
  "kernelspec": {
   "display_name": ".venv",
   "language": "python",
   "name": "python3"
  },
  "language_info": {
   "codemirror_mode": {
    "name": "ipython",
    "version": 3
   },
   "file_extension": ".py",
   "mimetype": "text/x-python",
   "name": "python",
   "nbconvert_exporter": "python",
   "pygments_lexer": "ipython3",
   "version": "3.12.1"
  }
 },
 "nbformat": 4,
 "nbformat_minor": 5
}
